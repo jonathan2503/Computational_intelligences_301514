{
 "cells": [
  {
   "cell_type": "markdown",
   "metadata": {},
   "source": [
    "## Lab 01 \n",
    "### Set coverage\n",
    "The next steps are to import the useful libraries and to set the subset according to the target space"
   ]
  },
  {
   "cell_type": "code",
   "execution_count": 2,
   "metadata": {},
   "outputs": [],
   "source": [
    "import random\n",
    "import logging\n",
    "import itertools\n",
    "\n",
    "def problem(N, seed=None):\n",
    "    random.seed(seed)\n",
    "    return [\n",
    "        list(set(random.randint(0, N - 1) for n in range(random.randint(N // 5, N // 2))))\n",
    "        for n in range(random.randint(N, N * 5))\n",
    "    ]\n"
   ]
  },
  {
   "cell_type": "markdown",
   "metadata": {},
   "source": [
    "The next function will be called later to calculate the coverage, in percent, that we had between the target space and from the obtained combination of the possible coverages. \\\n",
    "Since the nature of the problem obviously in any case we will always have 100 percent coverage."
   ]
  },
  {
   "cell_type": "code",
   "execution_count": 7,
   "metadata": {},
   "outputs": [],
   "source": [
    "def coverage ( S , N ):\n",
    "    space = set(range(0,N))\n",
    "    tmp = S\n",
    "    sol = []\n",
    "\n",
    "    for i in S:\n",
    "        for c in i:\n",
    "            sol.append(c)\n",
    "       \n",
    "    sol = [*set(sol)]    \n",
    "    f = len(sol)/N*100\n",
    "    \n",
    "    return f"
   ]
  },
  {
   "cell_type": "markdown",
   "metadata": {},
   "source": [
    "The next function is what is needed for optimization. "
   ]
  },
  {
   "cell_type": "code",
   "execution_count": 10,
   "metadata": {},
   "outputs": [],
   "source": [
    "def set_cover(P,N):\n",
    "    n_nodes= 0\n",
    "    universe = set(range(0,N))\n",
    "    len_P = len(P)\n",
    "    P_sets = [set(x) for x in P]\n",
    "    lengths = [len(x) for x in  P_sets]\n",
    "    \n",
    "\n",
    "    elements = set( e for s in P for e in s)\n",
    "    if elements != universe:\n",
    "        return None\n",
    "    covered=set()\n",
    "    S = []\n",
    "    while covered != elements:\n",
    "        subset=max(P_sets,key=lambda s: len(s-covered)/lengths[P_sets.index(s)])\n",
    "        n_nodes += len_P\n",
    "        S.append(subset)\n",
    "        covered |= subset\n",
    "    \n",
    "    #here i will report the coverage area\n",
    "    COV = coverage(S,N)\n",
    "    logging.getLogger().setLevel(logging.INFO)    \n",
    "    logging.info(\n",
    "        f\"Optimized solution for N={N}:w={sum(len(_) for _ in S)} (bloat={(sum(len(_) for _ in S)-N)/N*100:.0f}%),nodes visited:{n_nodes},covered space:{COV}%\"\n",
    "    )\n",
    "    logging.debug(f\"{S}\")   \n",
    "    return S\n"
   ]
  },
  {
   "cell_type": "markdown",
   "metadata": {},
   "source": [
    "# Testbench\n",
    "detailed demonstration of operation whit N=10."
   ]
  },
  {
   "cell_type": "code",
   "execution_count": 13,
   "metadata": {},
   "outputs": [
    {
     "name": "stderr",
     "output_type": "stream",
     "text": [
      "INFO:root:Optimized solution for N=10:w=12 (bloat=20%),nodes visited:250,covered space:100.0%\n"
     ]
    },
    {
     "name": "stdout",
     "output_type": "stream",
     "text": [
      "Demonstration of operation with detailed data: \n",
      "\n",
      "Possibility set: [[0, 4], [1, 2, 3], [9, 6], [0, 1], [8, 9, 3], [8, 3], [0, 3, 4, 7, 9], [4, 5, 6], [1, 3, 5], [1, 6], [0, 9, 4, 5], [8, 1, 6], [9, 3, 5], [0, 3], [1, 3, 6], [2, 5, 7], [1, 3, 4, 9], [8, 2, 3], [3, 4, 5, 6, 8], [0, 3], [1, 3, 4, 6], [3, 6, 7], [2, 3, 4], [9, 6], [8, 2, 3, 7], [0, 1], [9, 2, 6], [6], [8, 0, 4, 1], [1, 4, 5, 6], [0, 4, 7], [8, 1, 4], [2, 5], [9, 5], [0, 1, 3, 4, 5], [9, 3], [1, 7], [8, 2], [8, 2, 7], [8, 9, 3, 6], [4, 5, 6], [8, 1, 3, 7], [0, 5], [0, 9, 3], [0, 3], [0, 5], [8, 3], [8, 2, 3, 7], [1, 3, 6, 7], [5, 6]] \n",
      "\n",
      "Solution: [{0, 4}, {1, 2, 3}, {9, 6}, {2, 5, 7}, {8, 3}]\n"
     ]
    }
   ],
   "source": [
    "print(\"Demonstration of operation with detailed data: \\n\")\n",
    "N=10\n",
    "seed = 42\n",
    "S = set_cover(problem(N,seed),N)\n",
    "print('Possibility set:',problem(N, seed), '\\n')\n",
    "print('Solution:',S)\n",
    "\n"
   ]
  },
  {
   "cell_type": "markdown",
   "metadata": {},
   "source": [
    "Now we are going to see,more coincidentally, the results obtained with a larger space.  "
   ]
  },
  {
   "cell_type": "code",
   "execution_count": 14,
   "metadata": {},
   "outputs": [
    {
     "name": "stderr",
     "output_type": "stream",
     "text": [
      "INFO:root:Optimized solution for N=5:w=5 (bloat=0%),nodes visited:125,covered space:100.0%\n",
      "INFO:root:Optimized solution for N=10:w=12 (bloat=20%),nodes visited:250,covered space:100.0%\n",
      "INFO:root:Optimized solution for N=20:w=30 (bloat=50%),nodes visited:204,covered space:100.0%\n",
      "INFO:root:Optimized solution for N=100:w=171 (bloat=71%),nodes visited:3416,covered space:100.0%\n",
      "INFO:root:Optimized solution for N=500:w=1256 (bloat=151%),nodes visited:21708,covered space:100.0%\n",
      "INFO:root:Optimized solution for N=1000:w=2913 (bloat=191%),nodes visited:47047,covered space:100.0%\n"
     ]
    }
   ],
   "source": [
    "for N in [5, 10, 20, 100, 500, 1000]:\n",
    "    set_cover(problem(N,seed),N)"
   ]
  }
 ],
 "metadata": {
  "kernelspec": {
   "display_name": "Python 3.8.10 64-bit",
   "language": "python",
   "name": "python3"
  },
  "language_info": {
   "codemirror_mode": {
    "name": "ipython",
    "version": 3
   },
   "file_extension": ".py",
   "mimetype": "text/x-python",
   "name": "python",
   "nbconvert_exporter": "python",
   "pygments_lexer": "ipython3",
   "version": "3.8.10"
  },
  "orig_nbformat": 4,
  "vscode": {
   "interpreter": {
    "hash": "916dbcbb3f70747c44a77c7bcd40155683ae19c65e1c03b4aa3499c5328201f1"
   }
  }
 },
 "nbformat": 4,
 "nbformat_minor": 2
}
