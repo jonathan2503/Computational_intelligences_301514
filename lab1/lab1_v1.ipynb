{
 "cells": [
  {
   "cell_type": "markdown",
   "metadata": {},
   "source": [
    "## Lab 01 V1\n",
    "### Set coverage\n",
    "This version is done to the issue that was pointed by my collegue,here i will report his issue:\n",
    "\n",
    " + The nodes visited print  is a  misleading because the actual number of nodes visited is equal to the number of iterations, while you are counting (Number_Of_Iterations)*(Number_Of_Lists), probably because the max() function has linear time to the size of the list.\n",
    "\n",
    "- the assumption is correct, indeed the MAX function, as per the documentation [Python.max](https://docs.python.org/3/library/functions.html?highlight=max#max ), when it searches for the maximum it scrolls through all available component of the  lists and compares them to each other.\n",
    "unfortunately there are no sources to understand what kind of complexity the max function is  so I assume for simplicity that each node is compared across the length of the number of the list\n",
    "\n",
    "\n"
   ]
  },
  {
   "cell_type": "markdown",
   "metadata": {},
   "source": [
    "+ The **lengths** list is not useful as you could simply use len() on the set, since you never modify the original lists.\n",
    "\n",
    "- Unfortunately, the lenght function is indispensable because the lists we are analyzing all have different sizes, consequently to evaluate well I need to have a list in which all lengths appear "
   ]
  },
  {
   "cell_type": "markdown",
   "metadata": {},
   "source": [
    "- In order to reduce time you could have decided to keep the lists inside a set and, at each iteration, remove from it the list used, so that it won't be tested again.\n",
    "\n",
    "+ great suggestion, below is the implementation of function P_sets.remove(subset)"
   ]
  },
  {
   "cell_type": "code",
   "execution_count": 58,
   "metadata": {},
   "outputs": [],
   "source": [
    "import random\n",
    "import logging\n",
    "import itertools\n",
    "\n",
    "def problem(N, seed=None):\n",
    "    random.seed(seed)\n",
    "    return [\n",
    "        list(set(random.randint(0, N - 1) for n in range(random.randint(N // 5, N // 2))))\n",
    "        for n in range(random.randint(N, N * 5))\n",
    "    ]\n",
    "seed=42"
   ]
  },
  {
   "cell_type": "markdown",
   "metadata": {},
   "source": [
    "The next function will be called later to calculate the coverage, in percent, that we had between the target space and from the obtained combination of the possible coverages. \\\n",
    "Since the nature of the problem obviously in any case we will always have 100 percent coverage."
   ]
  },
  {
   "cell_type": "code",
   "execution_count": 59,
   "metadata": {},
   "outputs": [],
   "source": [
    "def coverage ( S , N ):\n",
    "    space = set(range(0,N))\n",
    "    tmp = S\n",
    "    sol = []\n",
    "\n",
    "    for i in S:\n",
    "        for c in i:\n",
    "            sol.append(c)\n",
    "       \n",
    "    sol = [*set(sol)]    \n",
    "    f = len(sol)/N*100\n",
    "    \n",
    "    return f"
   ]
  },
  {
   "cell_type": "markdown",
   "metadata": {},
   "source": [
    "The next function is what is needed for optimization. "
   ]
  },
  {
   "cell_type": "markdown",
   "metadata": {},
   "source": [
    "I've add this code to perform the operation of deleting the ripetition:\n",
    "``` python\n",
    "        lengths.pop(P_sets.index(subset ))\n",
    "        P_sets.remove(subset)\n",
    "```\n",
    "\n"
   ]
  },
  {
   "cell_type": "code",
   "execution_count": 76,
   "metadata": {},
   "outputs": [],
   "source": [
    "def set_cover(P,N):\n",
    "    tmp = P\n",
    "    n_nodes= 0\n",
    "    universe = set(range(0,N))\n",
    "    len_P = len(P)\n",
    "    P_sets = [set(x) for x in P]\n",
    "    lengths = [len(x) for x in  P_sets]\n",
    "    \n",
    "\n",
    "    elements = set( e for s in P for e in s)\n",
    "    if elements != universe:\n",
    "        return None\n",
    "    covered=set()\n",
    "    S = []\n",
    "    while covered != elements:\n",
    "        subset=max(P_sets,key=lambda s: len(s-covered)/lengths[P_sets.index(s)])\n",
    "        #print('max_value',subset)\n",
    "        n_nodes += len_P\n",
    "        S.append(subset)\n",
    "        lengths.pop(P_sets.index(subset ))\n",
    "        P_sets.remove(subset)\n",
    "        covered |= subset\n",
    "    \n",
    "    #here i will report the coverage area\n",
    "    COV = coverage(S,N)\n",
    "    logging.getLogger().setLevel(logging.INFO)    \n",
    "    logging.info(\n",
    "        f\"Optimized solution for N={N}:w={sum(len(_) for _ in S)} (bloat={(sum(len(_) for _ in S)-N)/N*100:.0f}%),nodes visited:{n_nodes},covered space:{COV}%\"\n",
    "    )\n",
    "    logging.debug(f\"{S}\")   \n",
    "    return S\n"
   ]
  },
  {
   "cell_type": "markdown",
   "metadata": {},
   "source": [
    "# Testbench\n",
    "detailed demonstration of operation whit N=10."
   ]
  },
  {
   "cell_type": "markdown",
   "metadata": {},
   "source": [
    "Now we are going to see,more coincidentally, the results obtained with a larger space.  "
   ]
  },
  {
   "cell_type": "code",
   "execution_count": 77,
   "metadata": {},
   "outputs": [
    {
     "name": "stderr",
     "output_type": "stream",
     "text": [
      "INFO:root:Optimized solution for N=5:w=5 (bloat=0%),nodes visited:125,covered space:100.0%\n",
      "INFO:root:Optimized solution for N=10:w=12 (bloat=20%),nodes visited:250,covered space:100.0%\n",
      "INFO:root:Optimized solution for N=20:w=30 (bloat=50%),nodes visited:204,covered space:100.0%\n",
      "INFO:root:Optimized solution for N=100:w=171 (bloat=71%),nodes visited:3416,covered space:100.0%\n",
      "INFO:root:Optimized solution for N=500:w=1256 (bloat=151%),nodes visited:21708,covered space:100.0%\n",
      "INFO:root:Optimized solution for N=1000:w=2913 (bloat=191%),nodes visited:47047,covered space:100.0%\n"
     ]
    }
   ],
   "source": [
    "for N in [5, 10, 20, 100, 500, 1000]:\n",
    "    set_cover(problem(N,seed),N)"
   ]
  }
 ],
 "metadata": {
  "kernelspec": {
   "display_name": "Python 3.8.10 64-bit",
   "language": "python",
   "name": "python3"
  },
  "language_info": {
   "codemirror_mode": {
    "name": "ipython",
    "version": 3
   },
   "file_extension": ".py",
   "mimetype": "text/x-python",
   "name": "python",
   "nbconvert_exporter": "python",
   "pygments_lexer": "ipython3",
   "version": "3.8.10"
  },
  "orig_nbformat": 4,
  "vscode": {
   "interpreter": {
    "hash": "916dbcbb3f70747c44a77c7bcd40155683ae19c65e1c03b4aa3499c5328201f1"
   }
  }
 },
 "nbformat": 4,
 "nbformat_minor": 2
}
