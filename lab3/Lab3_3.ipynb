{
 "cells": [
  {
   "cell_type": "code",
   "execution_count": 10,
   "metadata": {},
   "outputs": [],
   "source": [
    "import logging\n",
    "from collections import namedtuple\n",
    "import random\n",
    "from typing import Callable\n",
    "from copy import deepcopy\n",
    "from itertools import accumulate\n",
    "from operator import xor\n",
    "import math\n",
    "\n",
    "logging.getLogger().setLevel(logging.INFO)"
   ]
  },
  {
   "cell_type": "markdown",
   "metadata": {},
   "source": [
    "## The *Nim* and *Nimply* classes"
   ]
  },
  {
   "cell_type": "code",
   "execution_count": 11,
   "metadata": {},
   "outputs": [],
   "source": [
    "Nimply = namedtuple(\"Nimply\", \"row, num_objects\")"
   ]
  },
  {
   "cell_type": "code",
   "execution_count": 12,
   "metadata": {},
   "outputs": [],
   "source": [
    "class Nim:\n",
    "    def __init__(self, num_rows: int, k: int = None) -> None:\n",
    "        self._rows = [i * 2 + 1 for i in range(num_rows)]\n",
    "        self._k = k\n",
    "\n",
    "    def __bool__(self):\n",
    "        return sum(self._rows) > 0\n",
    "\n",
    "    def __str__(self):\n",
    "        return \"<\" + \" \".join(str(_) for _ in self._rows) + \">\"\n",
    "\n",
    "    @property\n",
    "    def rows(self) -> tuple:\n",
    "        return tuple(self._rows)\n",
    "\n",
    "    @property\n",
    "    def k(self) -> int:\n",
    "        return self._k\n",
    "\n",
    "    def nimming(self, ply: Nimply) -> None:\n",
    "        row, num_objects = ply\n",
    "        assert self._rows[row] >= num_objects\n",
    "        assert self._k is None or num_objects <= self._k\n",
    "        self._rows[row] -= num_objects"
   ]
  },
  {
   "cell_type": "code",
   "execution_count": 13,
   "metadata": {},
   "outputs": [],
   "source": [
    "def evaluate(strategyA: Callable, strategyB: Callable, num_matches = 1, nim_size = 3, k = None) -> float:\n",
    "    players = (strategyA, strategyB)\n",
    "    won = 0\n",
    "\n",
    "    for _ in range(num_matches):\n",
    "        nim = Nim(nim_size, k)\n",
    "        player = 1\n",
    "        while nim:\n",
    "            ply = players[player](nim)\n",
    "            nim.nimming(ply)\n",
    "            player = 1 - player\n",
    "        if player == 1:\n",
    "            won += 1\n",
    "    return won / num_matches"
   ]
  },
  {
   "cell_type": "markdown",
   "metadata": {},
   "source": [
    "## Random strategy"
   ]
  },
  {
   "cell_type": "code",
   "execution_count": 14,
   "metadata": {},
   "outputs": [],
   "source": [
    "# Choose a random non empty row and remove a random number of objects smaller than min(k, row_objects)\n",
    "\n",
    "def random_strategy(state: Nim):\n",
    "    r = random.choice([idx for idx, r in enumerate(state.rows) if r > 0])\n",
    "    num_objects = random.randint(1, min(state.rows[r], state.k) if state.k != None else state.rows[r])\n",
    "\n",
    "    return (r, num_objects)"
   ]
  },
  {
   "attachments": {},
   "cell_type": "markdown",
   "metadata": {},
   "source": [
    "## Task 3.3: MinMax"
   ]
  },
  {
   "cell_type": "code",
   "execution_count": 15,
   "metadata": {},
   "outputs": [],
   "source": [
    "\n",
    "def minmax(max_depth=math.inf):\n",
    "    max_depth_reached = 0\n",
    "    cache = {}\n",
    "    hits = 0\n",
    "    misses = 0\n",
    "    MAX_CACHE_LEN = 1e6\n",
    "\n",
    "    def minmax_with_pruning(state: Nim, alpha, beta, current_player, depth=0):\n",
    "        nonlocal max_depth_reached, cache, hits, misses\n",
    "        max_depth_reached = max(max_depth_reached, depth)\n",
    "                \n",
    "        if not state or depth >= max_depth:\n",
    "            return current_player, None # i.e. the loser\n",
    "        \n",
    "        possible_moves = ((r, o) for r, c in enumerate(state.rows) for o in range(1, c + 1) if state.k is None or o <= state.k)\n",
    "        value = current_player * math.inf, None\n",
    "\n",
    "        if current_player == 1: # my turn, minimize\n",
    "            for m in possible_moves:\n",
    "                tmp = deepcopy(state)\n",
    "                tmp.nimming(m)\n",
    "                \n",
    "                s =  (tmp, -current_player, alpha, beta)\n",
    "\n",
    "                if s not in cache or len(cache) >= MAX_CACHE_LEN:\n",
    "                    val, _ = minmax_with_pruning(tmp, alpha, beta, -current_player, depth + 1)\n",
    "                    cache.update({s: (val, None)}) \n",
    "                    misses += 1\n",
    "                else:\n",
    "                    val, _ = cache[s]\n",
    "                    hits += 1\n",
    "     \n",
    "                value = min(value, (val, m))\n",
    "\n",
    "                if value <= alpha:\n",
    "                    break\n",
    "\n",
    "                beta = min(beta, value)   \n",
    "            return value\n",
    "        else: # its turn, maximize\n",
    "            for m in possible_moves:\n",
    "                tmp = deepcopy(state)\n",
    "                tmp.nimming(m)\n",
    "                \n",
    "                s =  (tmp, -current_player, alpha, beta)\n",
    "\n",
    "                if s not in cache or len(cache) >= MAX_CACHE_LEN:\n",
    "                    val, _ = minmax_with_pruning(tmp, alpha, beta, -current_player, depth + 1)\n",
    "                    cache.update({s: (val, None)}) \n",
    "                    misses += 1\n",
    "                else:\n",
    "                    val, _ = cache[s]\n",
    "                    hits += 1\n",
    "                \n",
    "                value = max(value, (val, m))\n",
    "                \n",
    "                if value >= beta:\n",
    "                    break\n",
    "\n",
    "                alpha = max(alpha, value)    \n",
    "            return value\n",
    "\n",
    "    def minmax_strategy_with_pruning(state: Nim):\n",
    "        _, move = minmax_with_pruning(state, (-math.inf, None), (math.inf, None), 1)\n",
    "        nonlocal max_depth_reached, hits, misses\n",
    "        return move\n",
    "\n",
    "    return minmax_strategy_with_pruning\n"
   ]
  },
  {
   "cell_type": "markdown",
   "metadata": {},
   "source": [
    "## Oversimplified match"
   ]
  },
  {
   "cell_type": "code",
   "execution_count": 16,
   "metadata": {},
   "outputs": [
    {
     "name": "stderr",
     "output_type": "stream",
     "text": [
      "DEBUG:root:status: Initial board  -> <1 3 5 7 9 11 13>\n",
      "DEBUG:root:status: After player 0 -> <0 3 5 7 9 11 13>\n",
      "DEBUG:root:status: After player 1 -> <0 2 5 7 9 11 13>\n",
      "DEBUG:root:status: After player 0 -> <0 1 5 7 9 11 13>\n",
      "DEBUG:root:status: After player 1 -> <0 1 5 7 3 11 13>\n",
      "DEBUG:root:status: After player 0 -> <0 0 5 7 3 11 13>\n",
      "DEBUG:root:status: After player 1 -> <0 0 5 7 3 4 13>\n",
      "DEBUG:root:status: After player 0 -> <0 0 4 7 3 4 13>\n",
      "DEBUG:root:status: After player 1 -> <0 0 4 5 3 4 13>\n",
      "DEBUG:root:status: After player 0 -> <0 0 3 5 3 4 13>\n",
      "DEBUG:root:status: After player 1 -> <0 0 3 5 3 0 13>\n",
      "DEBUG:root:status: After player 0 -> <0 0 2 5 3 0 13>\n",
      "DEBUG:root:status: After player 1 -> <0 0 0 5 3 0 13>\n",
      "DEBUG:root:status: After player 0 -> <0 0 0 4 3 0 13>\n",
      "DEBUG:root:status: After player 1 -> <0 0 0 4 0 0 13>\n",
      "DEBUG:root:status: After player 0 -> <0 0 0 3 0 0 13>\n",
      "DEBUG:root:status: After player 1 -> <0 0 0 2 0 0 13>\n",
      "DEBUG:root:status: After player 0 -> <0 0 0 2 0 0 12>\n",
      "DEBUG:root:status: After player 1 -> <0 0 0 2 0 0 5>\n",
      "DEBUG:root:status: After player 0 -> <0 0 0 2 0 0 4>\n",
      "DEBUG:root:status: After player 1 -> <0 0 0 2 0 0 2>\n",
      "DEBUG:root:status: After player 0 -> <0 0 0 1 0 0 2>\n",
      "DEBUG:root:status: After player 1 -> <0 0 0 0 0 0 2>\n",
      "DEBUG:root:status: After player 0 -> <0 0 0 0 0 0 0>\n",
      "INFO:root:status: Player 0 won!\n"
     ]
    }
   ],
   "source": [
    "logging.getLogger().setLevel(logging.DEBUG)\n",
    "\n",
    "strategy = (minmax(5) , random_strategy)\n",
    "\n",
    "nim = Nim(7, None)\n",
    "logging.debug(f\"status: Initial board  -> {nim}\")\n",
    "player = 0\n",
    "while nim:\n",
    "    ply = strategy[player](nim) \n",
    "    nim.nimming(ply)\n",
    "    logging.debug(f\"status: After player {player} -> {nim}\")\n",
    "    player = 1 - player\n",
    "winner = 1 - player\n",
    "logging.info(f\"status: Player {winner} won!\")"
   ]
  }
 ],
 "metadata": {
  "kernelspec": {
   "display_name": "Python 3.8.10 64-bit",
   "language": "python",
   "name": "python3"
  },
  "language_info": {
   "codemirror_mode": {
    "name": "ipython",
    "version": 3
   },
   "file_extension": ".py",
   "mimetype": "text/x-python",
   "name": "python",
   "nbconvert_exporter": "python",
   "pygments_lexer": "ipython3",
   "version": "3.8.10"
  },
  "vscode": {
   "interpreter": {
    "hash": "916dbcbb3f70747c44a77c7bcd40155683ae19c65e1c03b4aa3499c5328201f1"
   }
  }
 },
 "nbformat": 4,
 "nbformat_minor": 2
}
