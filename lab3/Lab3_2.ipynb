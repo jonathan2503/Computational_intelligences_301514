{
 "cells": [
  {
   "cell_type": "code",
   "execution_count": 1,
   "metadata": {},
   "outputs": [],
   "source": [
    "import logging\n",
    "from collections import namedtuple\n",
    "import random\n",
    "from typing import Callable\n",
    "from copy import deepcopy\n",
    "from itertools import accumulate\n",
    "from operator import xor\n",
    "\n",
    "logging.getLogger().setLevel(logging.INFO)"
   ]
  },
  {
   "cell_type": "markdown",
   "metadata": {},
   "source": [
    "## The *Nim* and *Nimply* classes"
   ]
  },
  {
   "cell_type": "code",
   "execution_count": 21,
   "metadata": {},
   "outputs": [],
   "source": [
    "Nimply = namedtuple(\"Nimply\", \"row, num_objects\")"
   ]
  },
  {
   "cell_type": "code",
   "execution_count": 22,
   "metadata": {},
   "outputs": [],
   "source": [
    "class Nim:\n",
    "    def __init__(self, num_rows: int, k: int = None) -> None:\n",
    "        self._rows = [i * 2 + 1 for i in range(num_rows)]\n",
    "        self._k = k\n",
    "\n",
    "    def __bool__(self):\n",
    "        return sum(self._rows) > 0\n",
    "\n",
    "    def __str__(self):\n",
    "        return \"<\" + \" \".join(str(_) for _ in self._rows) + \">\"\n",
    "\n",
    "    @property\n",
    "    def rows(self) -> tuple:\n",
    "        return tuple(self._rows)\n",
    "\n",
    "    @property\n",
    "    def k(self) -> int:\n",
    "        return self._k\n",
    "\n",
    "    def nimming(self, ply: Nimply) -> None:\n",
    "        row, num_objects = ply\n",
    "        assert self._rows[row] >= num_objects\n",
    "        assert self._k is None or num_objects <= self._k\n",
    "        self._rows[row] -= num_objects"
   ]
  },
  {
   "cell_type": "code",
   "execution_count": 23,
   "metadata": {},
   "outputs": [],
   "source": [
    "def evaluate(strategyA: Callable, strategyB: Callable, num_matches = 1, nim_size = 3, k = None) -> float:\n",
    "    players = (strategyA, strategyB)\n",
    "    won = 0\n",
    "\n",
    "    for _ in range(num_matches):\n",
    "        nim = Nim(nim_size, k)\n",
    "        player = 1\n",
    "        while nim:\n",
    "            ply = players[player](nim)\n",
    "            nim.nimming(ply)\n",
    "            player = 1 - player\n",
    "        if player == 1:\n",
    "            won += 1\n",
    "    return won / num_matches"
   ]
  },
  {
   "cell_type": "markdown",
   "metadata": {},
   "source": [
    "## Random strategy"
   ]
  },
  {
   "cell_type": "code",
   "execution_count": 29,
   "metadata": {},
   "outputs": [],
   "source": [
    "# Choose a random non empty row and remove a random number of objects smaller than min(k, row_objects)\n",
    "\n",
    "def random_strategy(state: Nim):\n",
    "    r = random.choice([idx for idx, r in enumerate(state.rows) if r > 0])\n",
    "    num_objects = random.randint(1, min(state.rows[r], state.k) if state.k != None else state.rows[r])\n",
    "\n",
    "    return (r, num_objects)"
   ]
  },
  {
   "cell_type": "markdown",
   "metadata": {},
   "source": [
    "## Task 3.2: Evolved Strategy"
   ]
  },
  {
   "cell_type": "code",
   "execution_count": 35,
   "metadata": {},
   "outputs": [],
   "source": [
    "from statistics import *\n",
    "\n",
    "def my_xor(collection):\n",
    "    *_, result = accumulate(collection, xor)\n",
    "    return result\n",
    "\n",
    "RULES = [sum, min, max, mean, stdev] # [my_xor, sum, min, max, mean, stdev]\n",
    "\n",
    "def evolvable_strategy(genome):\n",
    "    def strategy(state: Nim):\n",
    "            possible_moves = [(r, o) for r, c in enumerate(state.rows) for o in range(1, c + 1) if state.k is None or o <= state.k]\n",
    "\n",
    "            for m in possible_moves:\n",
    "                tmp = deepcopy(state)\n",
    "                tmp.nimming(m)\n",
    "                \n",
    "                play = (m, sum(w * op(tmp.rows) for w, op in zip(genome, RULES)))\n",
    "\n",
    "                if play[1] == 0:\n",
    "                    return play[0]\n",
    "                                \n",
    "            return possible_moves[0]\n",
    "    \n",
    "    return strategy\n",
    "\n",
    "def mutation(genome):\n",
    "    point = random.randint(0, len(genome) - 1)\n",
    "    return genome[:point] + [1 - genome[point]] + genome[point + 1:]\n",
    "\n",
    "def crossover(genomeA, genomeB):\n",
    "    p = random.random()\n",
    "    return [x if p < 0.5 else y for x, y in zip(genomeA, genomeB)]\n",
    "\n",
    "def tournament(population, tournament_size):\n",
    "    return max(random.choices(population, k=tournament_size), key=lambda i: i.fitness)\n",
    "\n",
    "def fitness(genome):\n",
    "    games = 5\n",
    "    win_optimal = 0.0\n",
    "    win_random = 0.0\n",
    "\n",
    "    for nim_size, k in ((nim_size, k) for nim_size, k in ((random.randint(3, 10), random.choice([None, random.randint(1, 10)])) for _ in range(games))):\n",
    "        home = evaluate(evolvable_strategy(genome), random_strategy, nim_size=nim_size, k=k) \n",
    "        away = 1 - evaluate(random_strategy, evolvable_strategy(genome), nim_size=nim_size, k=k)\n",
    "        win_random += home + away\n",
    "    return (win_optimal/(2*games), win_random/(2*games))\n",
    "        \n",
    "def genetic_algorithm():\n",
    "    Individual = namedtuple('Individual', ('genome', 'fitness'))\n",
    "\n",
    "    NUM_GENS = 100    \n",
    "    POPULATION_SIZE = 10\n",
    "    OFFSPRING_SIZE = 20\n",
    "    TOURNAMENT_SIZE = 2\n",
    "    USELESS_GENS = 0\n",
    "    STEADY_STATE_LIMIT = 10\n",
    "\n",
    "    population = [Individual(i, fitness(i)) for i in ([0 for _ in range(len(RULES))] for _ in range(POPULATION_SIZE))]\n",
    "    best = None\n",
    "    \n",
    "    for g in range(NUM_GENS):\n",
    "        offspring = list()\n",
    "        for i in range(OFFSPRING_SIZE):\n",
    "            p1 = tournament(population, tournament_size=TOURNAMENT_SIZE)\n",
    "            p2 = tournament(population, tournament_size=TOURNAMENT_SIZE)\n",
    "            o = crossover(p1.genome, p2.genome)\n",
    "            f = fitness(o)\n",
    "            offspring.append(Individual(o, f))\n",
    "        population += offspring\n",
    "        population = sorted(population, key=lambda i: i.fitness, reverse=True)[:POPULATION_SIZE]\n",
    "        newBest = max(population, key=lambda i: i.fitness)\n",
    "\n",
    "        if best != None and newBest <= best:\n",
    "            logging.info(f'Gen {g+1} skipped because useless')\n",
    "            USELESS_GENS += 1\n",
    "        else:\n",
    "            logging.info(f'Gen {g+1}, found new best individual: {newBest}')\n",
    "            best = newBest\n",
    "            USELESS_GENS = 0\n",
    "        \n",
    "        if USELESS_GENS == STEADY_STATE_LIMIT:\n",
    "            break\n",
    "\n",
    "    return evolvable_strategy(best.genome)"
   ]
  },
  {
   "cell_type": "markdown",
   "metadata": {},
   "source": [
    "## Oversimplified match"
   ]
  },
  {
   "cell_type": "code",
   "execution_count": 36,
   "metadata": {},
   "outputs": [
    {
     "name": "stderr",
     "output_type": "stream",
     "text": [
      "INFO:root:Gen 1, found new best individual: Individual(genome=[0, 0, 0, 0, 0], fitness=(0.0, 0.7))\n",
      "INFO:root:Gen 2 skipped because useless\n",
      "INFO:root:Gen 3 skipped because useless\n",
      "INFO:root:Gen 4, found new best individual: Individual(genome=[0, 0, 0, 0, 0], fitness=(0.0, 0.8))\n",
      "INFO:root:Gen 5 skipped because useless\n",
      "INFO:root:Gen 6 skipped because useless\n",
      "INFO:root:Gen 7 skipped because useless\n",
      "INFO:root:Gen 8 skipped because useless\n",
      "INFO:root:Gen 9 skipped because useless\n",
      "INFO:root:Gen 10 skipped because useless\n",
      "INFO:root:Gen 11 skipped because useless\n",
      "INFO:root:Gen 12 skipped because useless\n",
      "INFO:root:Gen 13 skipped because useless\n",
      "INFO:root:Gen 14 skipped because useless\n",
      "DEBUG:root:status: Initial board  -> <1 3 5 7 9 11 13>\n",
      "DEBUG:root:status: After player 0 -> <0 3 5 7 9 11 13>\n",
      "DEBUG:root:status: After player 1 -> <0 3 5 7 8 11 13>\n",
      "DEBUG:root:status: After player 0 -> <0 2 5 7 8 11 13>\n",
      "DEBUG:root:status: After player 1 -> <0 2 4 7 8 11 13>\n",
      "DEBUG:root:status: After player 0 -> <0 1 4 7 8 11 13>\n",
      "DEBUG:root:status: After player 1 -> <0 1 4 7 8 3 13>\n",
      "DEBUG:root:status: After player 0 -> <0 0 4 7 8 3 13>\n",
      "DEBUG:root:status: After player 1 -> <0 0 4 7 1 3 13>\n",
      "DEBUG:root:status: After player 0 -> <0 0 3 7 1 3 13>\n",
      "DEBUG:root:status: After player 1 -> <0 0 2 7 1 3 13>\n",
      "DEBUG:root:status: After player 0 -> <0 0 1 7 1 3 13>\n",
      "DEBUG:root:status: After player 1 -> <0 0 0 7 1 3 13>\n",
      "DEBUG:root:status: After player 0 -> <0 0 0 6 1 3 13>\n",
      "DEBUG:root:status: After player 1 -> <0 0 0 3 1 3 13>\n",
      "DEBUG:root:status: After player 0 -> <0 0 0 2 1 3 13>\n",
      "DEBUG:root:status: After player 1 -> <0 0 0 2 0 3 13>\n",
      "DEBUG:root:status: After player 0 -> <0 0 0 1 0 3 13>\n",
      "DEBUG:root:status: After player 1 -> <0 0 0 0 0 3 13>\n",
      "DEBUG:root:status: After player 0 -> <0 0 0 0 0 2 13>\n",
      "DEBUG:root:status: After player 1 -> <0 0 0 0 0 1 13>\n",
      "DEBUG:root:status: After player 0 -> <0 0 0 0 0 0 13>\n",
      "DEBUG:root:status: After player 1 -> <0 0 0 0 0 0 8>\n",
      "DEBUG:root:status: After player 0 -> <0 0 0 0 0 0 7>\n",
      "DEBUG:root:status: After player 1 -> <0 0 0 0 0 0 2>\n",
      "DEBUG:root:status: After player 0 -> <0 0 0 0 0 0 1>\n",
      "DEBUG:root:status: After player 1 -> <0 0 0 0 0 0 0>\n",
      "INFO:root:status: Player 1 won!\n"
     ]
    }
   ],
   "source": [
    "logging.getLogger().setLevel(logging.DEBUG)\n",
    "\n",
    "strategy = (genetic_algorithm(), random_strategy)\n",
    "\n",
    "nim = Nim(7, None)\n",
    "logging.debug(f\"status: Initial board  -> {nim}\")\n",
    "player = 0\n",
    "while nim:\n",
    "    ply = strategy[player](nim) \n",
    "    nim.nimming(ply)\n",
    "    logging.debug(f\"status: After player {player} -> {nim}\")\n",
    "    player = 1 - player\n",
    "winner = 1 - player\n",
    "logging.info(f\"status: Player {winner} won!\")"
   ]
  }
 ],
 "metadata": {
  "kernelspec": {
   "display_name": "Python 3.8.10 64-bit",
   "language": "python",
   "name": "python3"
  },
  "language_info": {
   "codemirror_mode": {
    "name": "ipython",
    "version": 3
   },
   "file_extension": ".py",
   "mimetype": "text/x-python",
   "name": "python",
   "nbconvert_exporter": "python",
   "pygments_lexer": "ipython3",
   "version": "3.8.10"
  },
  "vscode": {
   "interpreter": {
    "hash": "916dbcbb3f70747c44a77c7bcd40155683ae19c65e1c03b4aa3499c5328201f1"
   }
  }
 },
 "nbformat": 4,
 "nbformat_minor": 2
}
